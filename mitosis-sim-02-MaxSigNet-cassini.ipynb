version https://git-lfs.github.com/spec/v1
oid sha256:28881faffbcd8026115378a17bf290d6c51f80f3952c0456cdb4ea0817018928
size 121544629
