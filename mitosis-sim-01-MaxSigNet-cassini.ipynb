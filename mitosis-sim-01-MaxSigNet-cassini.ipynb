version https://git-lfs.github.com/spec/v1
oid sha256:2a4aa76afa3c488b9e4ae9bd2bee0b6d68bf09a5d638ead040e32635a9138aad
size 85315418
